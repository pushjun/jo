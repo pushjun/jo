{
 "cells": [
  {
   "cell_type": "markdown",
   "id": "c8d0c34f",
   "metadata": {},
   "source": [
    "# \"리스트\"\n",
    "> \"Awesome summary\"\n",
    "\n",
    "- toc: true\n",
    "- branch: master\n",
    "- badges: true\n",
    "- comments: true\n",
    "- author: 조민준\n",
    "- categories: [python]"
   ]
  },
  {
   "cell_type": "code",
   "execution_count": 2,
   "id": "a9c1c1c5",
   "metadata": {},
   "outputs": [],
   "source": [
    "a=[11,12]\n",
    "b=[12,13]\n"
   ]
  },
  {
   "cell_type": "code",
   "execution_count": 3,
   "id": "b7fa7ed3",
   "metadata": {},
   "outputs": [
    {
     "data": {
      "text/plain": [
       "[11, 12, 12, 13]"
      ]
     },
     "execution_count": 3,
     "metadata": {},
     "output_type": "execute_result"
    }
   ],
   "source": [
    "a+b\n",
    "# 리스트 값들은 더하기 안된다."
   ]
  },
  {
   "cell_type": "code",
   "execution_count": 4,
   "id": "527e2f97",
   "metadata": {},
   "outputs": [
    {
     "ename": "TypeError",
     "evalue": "unsupported operand type(s) for -: 'list' and 'list'",
     "output_type": "error",
     "traceback": [
      "\u001b[1;31m---------------------------------------------------------------------------\u001b[0m",
      "\u001b[1;31mTypeError\u001b[0m                                 Traceback (most recent call last)",
      "\u001b[1;32m<ipython-input-4-5ae0619f8fe1>\u001b[0m in \u001b[0;36m<module>\u001b[1;34m\u001b[0m\n\u001b[1;32m----> 1\u001b[1;33m \u001b[0ma\u001b[0m\u001b[1;33m-\u001b[0m\u001b[0mb\u001b[0m\u001b[1;33m\u001b[0m\u001b[1;33m\u001b[0m\u001b[0m\n\u001b[0m",
      "\u001b[1;31mTypeError\u001b[0m: unsupported operand type(s) for -: 'list' and 'list'"
     ]
    }
   ],
   "source": [
    "a-b\n",
    "#리스트는 빼기가 안된다"
   ]
  },
  {
   "cell_type": "code",
   "execution_count": 5,
   "id": "be81004d",
   "metadata": {},
   "outputs": [
    {
     "data": {
      "text/plain": [
       "[11, 12, 11, 12]"
      ]
     },
     "execution_count": 5,
     "metadata": {},
     "output_type": "execute_result"
    }
   ],
   "source": [
    "2*a\n",
    "#곱하기는 가능"
   ]
  },
  {
   "cell_type": "code",
   "execution_count": 6,
   "id": "663a8041",
   "metadata": {},
   "outputs": [
    {
     "ename": "TypeError",
     "evalue": "unsupported operand type(s) for /: 'list' and 'int'",
     "output_type": "error",
     "traceback": [
      "\u001b[1;31m---------------------------------------------------------------------------\u001b[0m",
      "\u001b[1;31mTypeError\u001b[0m                                 Traceback (most recent call last)",
      "\u001b[1;32m<ipython-input-6-92d60c1a447d>\u001b[0m in \u001b[0;36m<module>\u001b[1;34m\u001b[0m\n\u001b[1;32m----> 1\u001b[1;33m \u001b[0ma\u001b[0m\u001b[1;33m/\u001b[0m\u001b[1;36m2\u001b[0m\u001b[1;33m\u001b[0m\u001b[1;33m\u001b[0m\u001b[0m\n\u001b[0m",
      "\u001b[1;31mTypeError\u001b[0m: unsupported operand type(s) for /: 'list' and 'int'"
     ]
    }
   ],
   "source": [
    "a/2\n",
    "#나누기는 불가능"
   ]
  },
  {
   "cell_type": "markdown",
   "id": "2dc99b44",
   "metadata": {},
   "source": [
    "### 리스트 자체로는 안되는것이 있다(덧셈)\n",
    "#####  하지만 이거를 가능하게 하는 넘파이!( 수치연산 라이브러리)"
   ]
  },
  {
   "cell_type": "code",
   "execution_count": 7,
   "id": "e831d1de",
   "metadata": {},
   "outputs": [],
   "source": [
    "import numpy as np"
   ]
  },
  {
   "cell_type": "code",
   "execution_count": 8,
   "id": "18cccb0c",
   "metadata": {},
   "outputs": [],
   "source": [
    "a=[11,12]\n",
    "b=[12,13]"
   ]
  },
  {
   "cell_type": "code",
   "execution_count": 9,
   "id": "612b9498",
   "metadata": {},
   "outputs": [],
   "source": [
    "aa=np.array(a)\n",
    "bb=np.array(b)\n",
    "#리스트를 넘파이어레이"
   ]
  },
  {
   "cell_type": "code",
   "execution_count": 12,
   "id": "3774ba8f",
   "metadata": {},
   "outputs": [
    {
     "name": "stdout",
     "output_type": "stream",
     "text": [
      "[11 12]\n",
      "[12 13]\n"
     ]
    }
   ],
   "source": [
    "print(aa)\n",
    "print(bb)"
   ]
  },
  {
   "cell_type": "code",
   "execution_count": 13,
   "id": "15b2b754",
   "metadata": {},
   "outputs": [
    {
     "data": {
      "text/plain": [
       "array([23, 25])"
      ]
     },
     "execution_count": 13,
     "metadata": {},
     "output_type": "execute_result"
    }
   ],
   "source": [
    "aa+bb"
   ]
  },
  {
   "cell_type": "markdown",
   "id": "0afc7545",
   "metadata": {},
   "source": [
    "# 리스트 컴프리헨션"
   ]
  },
  {
   "cell_type": "markdown",
   "id": "8e3a5e8c",
   "metadata": {},
   "source": [
    "#### for문 복습"
   ]
  },
  {
   "cell_type": "code",
   "execution_count": 18,
   "id": "f9e37289",
   "metadata": {},
   "outputs": [],
   "source": [
    "sum= 0"
   ]
  },
  {
   "cell_type": "code",
   "execution_count": 19,
   "id": "33bd66fc",
   "metadata": {},
   "outputs": [],
   "source": [
    "for i in [1,2,3,4]:\n",
    "     sum= sum+i\n"
   ]
  },
  {
   "cell_type": "code",
   "execution_count": 20,
   "id": "e43d1570",
   "metadata": {},
   "outputs": [
    {
     "data": {
      "text/plain": [
       "10"
      ]
     },
     "execution_count": 20,
     "metadata": {},
     "output_type": "execute_result"
    }
   ],
   "source": [
    "sum"
   ]
  },
  {
   "cell_type": "code",
   "execution_count": 23,
   "id": "7ec71c3b",
   "metadata": {},
   "outputs": [],
   "source": [
    "x=[]\n",
    "for i in [0,1,2,3]:\n",
    "     x.append(2**i)"
   ]
  },
  {
   "cell_type": "code",
   "execution_count": 24,
   "id": "208ae959",
   "metadata": {},
   "outputs": [
    {
     "data": {
      "text/plain": [
       "[1, 2, 4, 8]"
      ]
     },
     "execution_count": 24,
     "metadata": {},
     "output_type": "execute_result"
    }
   ],
   "source": [
    "x"
   ]
  },
  {
   "cell_type": "markdown",
   "id": "b4912e86",
   "metadata": {},
   "source": [
    "#### 위  반복문을 리스트컴프리헨션으로 표현"
   ]
  },
  {
   "cell_type": "code",
   "execution_count": 26,
   "id": "ee334986",
   "metadata": {},
   "outputs": [],
   "source": [
    "x.clear()"
   ]
  },
  {
   "cell_type": "code",
   "execution_count": 29,
   "id": "344907d6",
   "metadata": {},
   "outputs": [],
   "source": [
    "x=[2**i for i in [0,1,2,3]]"
   ]
  },
  {
   "cell_type": "code",
   "execution_count": 31,
   "id": "11ee8f9e",
   "metadata": {},
   "outputs": [
    {
     "data": {
      "text/plain": [
       "[1, 2, 4, 8]"
      ]
     },
     "execution_count": 31,
     "metadata": {},
     "output_type": "execute_result"
    }
   ],
   "source": [
    "x"
   ]
  },
  {
   "cell_type": "markdown",
   "id": "4549a177",
   "metadata": {},
   "source": [
    "* 집합에서 조건제시법을 연상\n",
    "\\{2^0,2^1,2^2,2^3\\}=\\{2^i: i \\in \\{0,1,2,3\\} \\}{2 \n",
    "0\n",
    " ,2 \n",
    "1\n",
    " ,2 \n",
    "2\n",
    " ,2 \n",
    "3\n",
    " }={2 \n",
    "i\n",
    " :i∈{0,1,2,3}}"
   ]
  },
  {
   "cell_type": "markdown",
   "id": "4f1178a6",
   "metadata": {},
   "source": [
    "* ['SSSS', 'PPPP', 'AAAA', 'MMMM']  이 리스트를 리스트컴프리헨션으로 표현해봐라"
   ]
  },
  {
   "cell_type": "code",
   "execution_count": 32,
   "id": "8cfe3a3a",
   "metadata": {},
   "outputs": [],
   "source": [
    "y=[]\n",
    "y=[i for i in ['SSSS','PPPP','AAAA','MMMM']]  # 맞긴한데 별루임\n",
    "y"
   ]
  },
  {
   "cell_type": "code",
   "execution_count": 34,
   "id": "5f63d9e9",
   "metadata": {},
   "outputs": [
    {
     "data": {
      "text/plain": [
       "['SSSS', 'PPPP', 'AAAA', 'MMMM']"
      ]
     },
     "execution_count": 34,
     "metadata": {},
     "output_type": "execute_result"
    }
   ],
   "source": [
    "y"
   ]
  },
  {
   "cell_type": "code",
   "execution_count": 37,
   "id": "cc92e7f0",
   "metadata": {},
   "outputs": [],
   "source": [
    "y.clear()\n",
    "y=[i*4 for i in ['S','P','A','M']]"
   ]
  },
  {
   "cell_type": "code",
   "execution_count": 38,
   "id": "a34ebb04",
   "metadata": {},
   "outputs": [
    {
     "data": {
      "text/plain": [
       "['SSSS', 'PPPP', 'AAAA', 'MMMM']"
      ]
     },
     "execution_count": 38,
     "metadata": {},
     "output_type": "execute_result"
    }
   ],
   "source": [
    "y"
   ]
  },
  {
   "cell_type": "markdown",
   "id": "ec0d8209",
   "metadata": {},
   "source": [
    "['X1', 'X2', 'X3', 'Y1', 'Y2', 'Y3'] 이것도 리스트컴프리헨션으로 표현"
   ]
  },
  {
   "cell_type": "code",
   "execution_count": 46,
   "id": "73c5f8de",
   "metadata": {},
   "outputs": [
    {
     "data": {
      "text/plain": [
       "['x1', 'x2', 'x3', 'y1', 'y2', 'y3']"
      ]
     },
     "execution_count": 46,
     "metadata": {},
     "output_type": "execute_result"
    }
   ],
   "source": [
    "\n",
    "[i+j for i in 'xy' for j in '123' ]\n"
   ]
  },
  {
   "cell_type": "markdown",
   "id": "b7870046",
   "metadata": {},
   "source": [
    "* 예제: 리스트컴프리헨션을 이용하여 통계1,...,통계5,수학1,...,수학5를 만들어라."
   ]
  },
  {
   "cell_type": "code",
   "execution_count": 50,
   "id": "40d246df",
   "metadata": {},
   "outputs": [
    {
     "data": {
      "text/plain": [
       "['통계1', '통계2', '통계3', '통계4', '통계5', '수학1', '수학2', '수학3', '수학4', '수학5']"
      ]
     },
     "execution_count": 50,
     "metadata": {},
     "output_type": "execute_result"
    }
   ],
   "source": [
    "t=['통계','수학']\n",
    "[i+j for i in t for j in '12345']"
   ]
  },
  {
   "cell_type": "code",
   "execution_count": null,
   "id": "2235e760",
   "metadata": {},
   "outputs": [],
   "source": []
  }
 ],
 "metadata": {
  "kernelspec": {
   "display_name": "Python 3",
   "language": "python",
   "name": "python3"
  },
  "language_info": {
   "codemirror_mode": {
    "name": "ipython",
    "version": 3
   },
   "file_extension": ".py",
   "mimetype": "text/x-python",
   "name": "python",
   "nbconvert_exporter": "python",
   "pygments_lexer": "ipython3",
   "version": "3.8.8"
  }
 },
 "nbformat": 4,
 "nbformat_minor": 5
}
