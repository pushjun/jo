{
 "cells": [
  {
   "cell_type": "markdown",
   "id": "000d53a6",
   "metadata": {},
   "source": []
  },
  {
   "cell_type": "markdown",
   "id": "3dbc5096-801c-4738-9abd-9380190593b6",
   "metadata": {},
   "source": [
    "# \"넘파이\"\n",
    "> \"Awesome summary\"\n",
    "\n",
    "- toc: true\n",
    "- branch: master\n",
    "- badges: true\n",
    "- comments: true\n",
    "- author: 조민준\n",
    "- categories: [python]"
   ]
  },
  {
   "cell_type": "markdown",
   "id": "967e8b38",
   "metadata": {},
   "source": [
    "####  넘파이 생성과 reshpae 함수"
   ]
  },
  {
   "cell_type": "code",
   "execution_count": 1,
   "id": "6dd65b39",
   "metadata": {},
   "outputs": [],
   "source": [
    "import numpy as np"
   ]
  },
  {
   "cell_type": "code",
   "execution_count": 2,
   "id": "5d2e5f8a",
   "metadata": {},
   "outputs": [],
   "source": [
    "a=np.array([[1,2,3],[4,5,6]])"
   ]
  },
  {
   "cell_type": "code",
   "execution_count": 3,
   "id": "96fc0036",
   "metadata": {},
   "outputs": [
    {
     "data": {
      "text/plain": [
       "array([[1, 2, 3],\n",
       "       [4, 5, 6]])"
      ]
     },
     "execution_count": 3,
     "metadata": {},
     "output_type": "execute_result"
    }
   ],
   "source": [
    "a"
   ]
  },
  {
   "cell_type": "code",
   "execution_count": 4,
   "id": "b77697d8",
   "metadata": {},
   "outputs": [],
   "source": [
    "b=np.arange(10)  # 10개의 1차원 테이블 생성"
   ]
  },
  {
   "cell_type": "code",
   "execution_count": 5,
   "id": "a291bdbd",
   "metadata": {},
   "outputs": [
    {
     "data": {
      "text/plain": [
       "array([[1, 1],\n",
       "       [1, 1],\n",
       "       [1, 1]])"
      ]
     },
     "execution_count": 5,
     "metadata": {},
     "output_type": "execute_result"
    }
   ],
   "source": [
    "np.ones((3,2),dtype='int32')  #1로만 이루어신 테이블 생성"
   ]
  },
  {
   "cell_type": "code",
   "execution_count": 6,
   "id": "c2418979",
   "metadata": {},
   "outputs": [
    {
     "data": {
      "text/plain": [
       "array([[0, 0],\n",
       "       [0, 0],\n",
       "       [0, 0]])"
      ]
     },
     "execution_count": 6,
     "metadata": {},
     "output_type": "execute_result"
    }
   ],
   "source": [
    "np.zeros((3,2),dtype='int32') # 제로 테이블 생성"
   ]
  },
  {
   "cell_type": "code",
   "execution_count": 7,
   "id": "8d4e6115",
   "metadata": {},
   "outputs": [],
   "source": [
    "re_b=b.reshape(2,5)  #reshape 함수  2행 5열로 바꿈"
   ]
  },
  {
   "cell_type": "code",
   "execution_count": 8,
   "id": "510b0f80",
   "metadata": {},
   "outputs": [
    {
     "data": {
      "text/plain": [
       "array([[0, 1, 2, 3, 4],\n",
       "       [5, 6, 7, 8, 9]])"
      ]
     },
     "execution_count": 8,
     "metadata": {},
     "output_type": "execute_result"
    }
   ],
   "source": [
    "re_b"
   ]
  },
  {
   "cell_type": "code",
   "execution_count": 9,
   "id": "6298c964",
   "metadata": {},
   "outputs": [
    {
     "data": {
      "text/plain": [
       "array([[0, 1, 2, 3, 4],\n",
       "       [5, 6, 7, 8, 9]])"
      ]
     },
     "execution_count": 9,
     "metadata": {},
     "output_type": "execute_result"
    }
   ],
   "source": [
    "b.reshape(-1,5)"
   ]
  },
  {
   "cell_type": "code",
   "execution_count": 10,
   "id": "31b8927a",
   "metadata": {},
   "outputs": [
    {
     "data": {
      "text/plain": [
       "array([[0, 1, 2, 3, 4],\n",
       "       [5, 6, 7, 8, 9]])"
      ]
     },
     "execution_count": 10,
     "metadata": {},
     "output_type": "execute_result"
    }
   ],
   "source": [
    "b.reshape(-2,5)"
   ]
  },
  {
   "cell_type": "code",
   "execution_count": 11,
   "id": "cd9d2862",
   "metadata": {},
   "outputs": [],
   "source": [
    "c=np.arange(5)"
   ]
  },
  {
   "cell_type": "code",
   "execution_count": 12,
   "id": "058ed841",
   "metadata": {},
   "outputs": [
    {
     "data": {
      "text/plain": [
       "array([0, 1, 2, 3, 4])"
      ]
     },
     "execution_count": 12,
     "metadata": {},
     "output_type": "execute_result"
    }
   ],
   "source": [
    "c  # 1차원 데이터"
   ]
  },
  {
   "cell_type": "code",
   "execution_count": 13,
   "id": "6d919ed0",
   "metadata": {},
   "outputs": [],
   "source": [
    "re_c=c.reshape(-1,1) ##2차원 테이블 로 변환\n"
   ]
  },
  {
   "cell_type": "code",
   "execution_count": 14,
   "id": "5a2b2747",
   "metadata": {},
   "outputs": [
    {
     "data": {
      "text/plain": [
       "array([[0],\n",
       "       [1],\n",
       "       [2],\n",
       "       [3],\n",
       "       [4]])"
      ]
     },
     "execution_count": 14,
     "metadata": {},
     "output_type": "execute_result"
    }
   ],
   "source": [
    "re_c  #2차원 테이블"
   ]
  },
  {
   "cell_type": "code",
   "execution_count": 15,
   "id": "7ee75731",
   "metadata": {},
   "outputs": [
    {
     "data": {
      "text/plain": [
       "array([0, 1, 2, 3, 4])"
      ]
     },
     "execution_count": 15,
     "metadata": {},
     "output_type": "execute_result"
    }
   ],
   "source": [
    "re_c.reshape(-1,)"
   ]
  },
  {
   "cell_type": "markdown",
   "id": "e83fe4a8",
   "metadata": {},
   "source": [
    "## 넘파이 인덱싱"
   ]
  },
  {
   "cell_type": "code",
   "execution_count": 16,
   "id": "a8b51fe3",
   "metadata": {},
   "outputs": [],
   "source": [
    "a=np.arange(9)"
   ]
  },
  {
   "cell_type": "code",
   "execution_count": 17,
   "id": "6fecc15f",
   "metadata": {},
   "outputs": [],
   "source": [
    "a=a.reshape(3,3)"
   ]
  },
  {
   "cell_type": "code",
   "execution_count": 18,
   "id": "230feb16",
   "metadata": {},
   "outputs": [
    {
     "data": {
      "text/plain": [
       "array([[0, 1, 2],\n",
       "       [3, 4, 5],\n",
       "       [6, 7, 8]])"
      ]
     },
     "execution_count": 18,
     "metadata": {},
     "output_type": "execute_result"
    }
   ],
   "source": [
    "a"
   ]
  },
  {
   "cell_type": "code",
   "execution_count": 19,
   "id": "df281835",
   "metadata": {},
   "outputs": [
    {
     "data": {
      "text/plain": [
       "array([[0, 1, 2],\n",
       "       [3, 4, 5],\n",
       "       [6, 7, 8]])"
      ]
     },
     "execution_count": 19,
     "metadata": {},
     "output_type": "execute_result"
    }
   ],
   "source": [
    "a"
   ]
  },
  {
   "cell_type": "code",
   "execution_count": 20,
   "id": "fe729d1c",
   "metadata": {},
   "outputs": [],
   "source": [
    "a[0,1]=1\n",
    "a[0,2]=2"
   ]
  },
  {
   "cell_type": "code",
   "execution_count": 21,
   "id": "f600bf01",
   "metadata": {},
   "outputs": [
    {
     "data": {
      "text/plain": [
       "array([[0, 1, 2],\n",
       "       [3, 4, 5],\n",
       "       [6, 7, 8]])"
      ]
     },
     "execution_count": 21,
     "metadata": {},
     "output_type": "execute_result"
    }
   ],
   "source": [
    "a"
   ]
  },
  {
   "cell_type": "markdown",
   "id": "6485ae4a",
   "metadata": {},
   "source": [
    "###### 슬라이싱  (연속된 값을 가져온다)"
   ]
  },
  {
   "cell_type": "code",
   "execution_count": 22,
   "id": "1676ce5d",
   "metadata": {},
   "outputs": [
    {
     "data": {
      "text/plain": [
       "array([[0, 1, 2],\n",
       "       [3, 4, 5],\n",
       "       [6, 7, 8]])"
      ]
     },
     "execution_count": 22,
     "metadata": {},
     "output_type": "execute_result"
    }
   ],
   "source": [
    "a"
   ]
  },
  {
   "cell_type": "code",
   "execution_count": 23,
   "id": "5976d693",
   "metadata": {},
   "outputs": [
    {
     "data": {
      "text/plain": [
       "array([[0, 1],\n",
       "       [3, 4]])"
      ]
     },
     "execution_count": 23,
     "metadata": {},
     "output_type": "execute_result"
    }
   ],
   "source": [
    "a[0:2,0:2]"
   ]
  },
  {
   "cell_type": "code",
   "execution_count": 24,
   "id": "a886fc5a",
   "metadata": {},
   "outputs": [
    {
     "data": {
      "text/plain": [
       "array([[0, 1, 2],\n",
       "       [3, 4, 5],\n",
       "       [6, 7, 8]])"
      ]
     },
     "execution_count": 24,
     "metadata": {},
     "output_type": "execute_result"
    }
   ],
   "source": [
    "a[:]"
   ]
  },
  {
   "cell_type": "markdown",
   "id": "5e2666e4",
   "metadata": {},
   "source": [
    "####  팬시 인덱싱   방안에 있는 데이터를 출력해줌"
   ]
  },
  {
   "cell_type": "code",
   "execution_count": 88,
   "id": "b0f09685",
   "metadata": {},
   "outputs": [
    {
     "data": {
      "text/plain": [
       "array([[0, 1, 2],\n",
       "       [3, 4, 5],\n",
       "       [6, 7, 8]])"
      ]
     },
     "execution_count": 88,
     "metadata": {},
     "output_type": "execute_result"
    }
   ],
   "source": [
    "a"
   ]
  },
  {
   "cell_type": "code",
   "execution_count": 89,
   "id": "680516ef",
   "metadata": {},
   "outputs": [
    {
     "data": {
      "text/plain": [
       "array([2, 5])"
      ]
     },
     "execution_count": 89,
     "metadata": {},
     "output_type": "execute_result"
    }
   ],
   "source": [
    "a[[0,1],2]"
   ]
  },
  {
   "cell_type": "code",
   "execution_count": 90,
   "id": "2abf42d4",
   "metadata": {},
   "outputs": [
    {
     "data": {
      "text/plain": [
       "array([3, 4])"
      ]
     },
     "execution_count": 90,
     "metadata": {},
     "output_type": "execute_result"
    }
   ],
   "source": [
    "a[1,0:2]"
   ]
  },
  {
   "cell_type": "code",
   "execution_count": 91,
   "id": "cde1bcb6",
   "metadata": {},
   "outputs": [
    {
     "data": {
      "text/plain": [
       "array([3, 4])"
      ]
     },
     "execution_count": 91,
     "metadata": {},
     "output_type": "execute_result"
    }
   ],
   "source": [
    "a[1,[0,1]]"
   ]
  },
  {
   "cell_type": "code",
   "execution_count": 92,
   "id": "5429473a",
   "metadata": {},
   "outputs": [],
   "source": [
    "f=np.arange(start=1,stop=10)"
   ]
  },
  {
   "cell_type": "code",
   "execution_count": 93,
   "id": "eb8a1a3e",
   "metadata": {},
   "outputs": [
    {
     "data": {
      "text/plain": [
       "array([1, 2, 3, 4, 5, 6, 7, 8, 9])"
      ]
     },
     "execution_count": 93,
     "metadata": {},
     "output_type": "execute_result"
    }
   ],
   "source": [
    "f"
   ]
  },
  {
   "cell_type": "markdown",
   "id": "b30568ba",
   "metadata": {},
   "source": [
    "### 불린 인덱싱\n",
    "#####  조건 필터링과 검색을 동시에 가능해서 자주 사용된다.\n",
    "#####  ndarray내의 값이 5보다 큰 ndarray를 추출하고자 한다면?"
   ]
  },
  {
   "cell_type": "code",
   "execution_count": 105,
   "id": "95723194",
   "metadata": {},
   "outputs": [
    {
     "name": "stdout",
     "output_type": "stream",
     "text": [
      "[6 7 8]\n"
     ]
    }
   ],
   "source": [
    "g=a[a>5]    # 어레이 안에서 5보다 큰 데이터를 출력\n",
    "g\n",
    "print(g)"
   ]
  },
  {
   "cell_type": "code",
   "execution_count": 102,
   "id": "7fcafa29",
   "metadata": {},
   "outputs": [
    {
     "data": {
      "text/plain": [
       "array([[False, False, False],\n",
       "       [False, False, False],\n",
       "       [ True,  True,  True]])"
      ]
     },
     "execution_count": 102,
     "metadata": {},
     "output_type": "execute_result"
    }
   ],
   "source": [
    "a>5 # true false 형태로 출력"
   ]
  },
  {
   "cell_type": "code",
   "execution_count": 96,
   "id": "f9806ff1",
   "metadata": {},
   "outputs": [],
   "source": [
    "b=np.arange(10)"
   ]
  },
  {
   "cell_type": "code",
   "execution_count": 97,
   "id": "a5a6a452",
   "metadata": {},
   "outputs": [
    {
     "data": {
      "text/plain": [
       "array([0, 1, 2, 3, 4, 5, 6, 7, 8, 9])"
      ]
     },
     "execution_count": 97,
     "metadata": {},
     "output_type": "execute_result"
    }
   ],
   "source": [
    "b"
   ]
  },
  {
   "cell_type": "code",
   "execution_count": 99,
   "id": "4c97df27",
   "metadata": {},
   "outputs": [
    {
     "name": "stdout",
     "output_type": "stream",
     "text": [
      "[False False False False False False  True  True  True  True]\n"
     ]
    }
   ],
   "source": [
    "print(b>5)"
   ]
  },
  {
   "cell_type": "markdown",
   "id": "2300aa20",
   "metadata": {},
   "source": []
  },
  {
   "cell_type": "code",
   "execution_count": 4,
   "id": "021d8557",
   "metadata": {},
   "outputs": [],
   "source": [
    "aa=np.array([3,1,9,5])"
   ]
  },
  {
   "cell_type": "code",
   "execution_count": 5,
   "id": "7ceadb97",
   "metadata": {},
   "outputs": [
    {
     "data": {
      "text/plain": [
       "array([3, 1, 9, 5])"
      ]
     },
     "execution_count": 5,
     "metadata": {},
     "output_type": "execute_result"
    }
   ],
   "source": [
    "aa"
   ]
  },
  {
   "cell_type": "code",
   "execution_count": 6,
   "id": "5af90390",
   "metadata": {},
   "outputs": [
    {
     "data": {
      "text/plain": [
       "array([1, 3, 5, 9])"
      ]
     },
     "execution_count": 6,
     "metadata": {},
     "output_type": "execute_result"
    }
   ],
   "source": [
    "np.sort(aa)   #np.sort는 출력값만 정령해주고 원래 np는 정렬이 되지 않는다."
   ]
  },
  {
   "cell_type": "code",
   "execution_count": 7,
   "id": "2eabaa46",
   "metadata": {},
   "outputs": [
    {
     "data": {
      "text/plain": [
       "array([3, 1, 9, 5])"
      ]
     },
     "execution_count": 7,
     "metadata": {},
     "output_type": "execute_result"
    }
   ],
   "source": [
    "aa"
   ]
  },
  {
   "cell_type": "code",
   "execution_count": 15,
   "id": "d612c676",
   "metadata": {},
   "outputs": [],
   "source": [
    "bb=np.array([2,3,4,1])"
   ]
  },
  {
   "cell_type": "code",
   "execution_count": 16,
   "id": "4a3e8e94",
   "metadata": {},
   "outputs": [
    {
     "data": {
      "text/plain": [
       "array([2, 3, 4, 1])"
      ]
     },
     "execution_count": 16,
     "metadata": {},
     "output_type": "execute_result"
    }
   ],
   "source": [
    "bb"
   ]
  },
  {
   "cell_type": "code",
   "execution_count": 17,
   "id": "d1d71f71",
   "metadata": {},
   "outputs": [],
   "source": [
    "bb.sort() # ndarray.sort 는 출력값을 none값으로 반환하고 원래 값은 정렬이 된다."
   ]
  },
  {
   "cell_type": "code",
   "execution_count": 19,
   "id": "efe05cae",
   "metadata": {},
   "outputs": [],
   "source": [
    "cc=bb.sort()"
   ]
  },
  {
   "cell_type": "code",
   "execution_count": 21,
   "id": "68285971",
   "metadata": {},
   "outputs": [
    {
     "name": "stdout",
     "output_type": "stream",
     "text": [
      "cc값은?: None\n"
     ]
    }
   ],
   "source": [
    "print('cc값은?:',cc)  # ndarray.sort의 반환값은 none"
   ]
  },
  {
   "cell_type": "code",
   "execution_count": 22,
   "id": "52d88004",
   "metadata": {},
   "outputs": [
    {
     "data": {
      "text/plain": [
       "array([9, 5, 3, 1])"
      ]
     },
     "execution_count": 22,
     "metadata": {},
     "output_type": "execute_result"
    }
   ],
   "source": [
    "np.sort(aa)[::-1]   #내림차순 정리"
   ]
  },
  {
   "cell_type": "code",
   "execution_count": 28,
   "id": "89f1a577",
   "metadata": {},
   "outputs": [],
   "source": [
    "qq=np.array([[9,1],[2,4]])"
   ]
  },
  {
   "cell_type": "code",
   "execution_count": 29,
   "id": "0a64940d",
   "metadata": {},
   "outputs": [
    {
     "data": {
      "text/plain": [
       "array([[9, 1],\n",
       "       [2, 4]])"
      ]
     },
     "execution_count": 29,
     "metadata": {},
     "output_type": "execute_result"
    }
   ],
   "source": [
    "qq"
   ]
  },
  {
   "cell_type": "code",
   "execution_count": 30,
   "id": "2d80a510",
   "metadata": {},
   "outputs": [
    {
     "data": {
      "text/plain": [
       "array([[2, 1],\n",
       "       [9, 4]])"
      ]
     },
     "execution_count": 30,
     "metadata": {},
     "output_type": "execute_result"
    }
   ],
   "source": [
    "np.sort(qq,axis=0)    #로우 방향 정렬"
   ]
  },
  {
   "cell_type": "code",
   "execution_count": 31,
   "id": "b8230741",
   "metadata": {},
   "outputs": [
    {
     "data": {
      "text/plain": [
       "array([[1, 9],\n",
       "       [2, 4]])"
      ]
     },
     "execution_count": 31,
     "metadata": {},
     "output_type": "execute_result"
    }
   ],
   "source": [
    "np.sort(qq,axis=1)   #컬럼 방향 정렬"
   ]
  },
  {
   "cell_type": "markdown",
   "id": "458babfc",
   "metadata": {},
   "source": [
    "* argsort"
   ]
  },
  {
   "cell_type": "code",
   "execution_count": 35,
   "id": "34dbd40a",
   "metadata": {},
   "outputs": [],
   "source": [
    "ori=np.array([3,1,9,5])"
   ]
  },
  {
   "cell_type": "code",
   "execution_count": 36,
   "id": "13de8b69",
   "metadata": {},
   "outputs": [],
   "source": [
    "re=np.argsort(ori)  ## argsort의 정렬 반환 값은 방번호를 반환"
   ]
  },
  {
   "cell_type": "code",
   "execution_count": 37,
   "id": "c365a77c",
   "metadata": {},
   "outputs": [
    {
     "data": {
      "text/plain": [
       "array([1, 0, 3, 2], dtype=int64)"
      ]
     },
     "execution_count": 37,
     "metadata": {},
     "output_type": "execute_result"
    }
   ],
   "source": [
    "re"
   ]
  },
  {
   "cell_type": "markdown",
   "id": "ac4b4598",
   "metadata": {},
   "source": [
    "* argsort 이거대체 왜씀?  아래 예시"
   ]
  },
  {
   "cell_type": "code",
   "execution_count": 40,
   "id": "f5039d02",
   "metadata": {},
   "outputs": [],
   "source": [
    "name=np.array(['a','c','r'])"
   ]
  },
  {
   "cell_type": "code",
   "execution_count": 41,
   "id": "7eb4f563",
   "metadata": {},
   "outputs": [],
   "source": [
    "num=np.array([10,30,23])"
   ]
  },
  {
   "cell_type": "code",
   "execution_count": 46,
   "id": "56057f19",
   "metadata": {},
   "outputs": [
    {
     "data": {
      "text/plain": [
       "array([0, 2, 1], dtype=int64)"
      ]
     },
     "execution_count": 46,
     "metadata": {},
     "output_type": "execute_result"
    }
   ],
   "source": [
    "num_sort=np.argsort(num)\n",
    "num_sort"
   ]
  },
  {
   "cell_type": "code",
   "execution_count": 47,
   "id": "67cc8252",
   "metadata": {},
   "outputs": [
    {
     "data": {
      "text/plain": [
       "array(['a', 'r', 'c'], dtype='<U1')"
      ]
     },
     "execution_count": 47,
     "metadata": {},
     "output_type": "execute_result"
    }
   ],
   "source": [
    "name_sort=name[num_sort]\n",
    "name_sort"
   ]
  },
  {
   "cell_type": "code",
   "execution_count": 49,
   "id": "ae91b098",
   "metadata": {},
   "outputs": [
    {
     "data": {
      "text/plain": [
       "array([10, 23, 30])"
      ]
     },
     "execution_count": 49,
     "metadata": {},
     "output_type": "execute_result"
    }
   ],
   "source": [
    "number=num[num_sort]\n",
    "number"
   ]
  },
  {
   "cell_type": "code",
   "execution_count": null,
   "id": "e8a4ed81",
   "metadata": {},
   "outputs": [],
   "source": []
  }
 ],
 "metadata": {
  "kernelspec": {
   "display_name": "Python 3",
   "language": "python",
   "name": "python3"
  },
  "language_info": {
   "codemirror_mode": {
    "name": "ipython",
    "version": 3
   },
   "file_extension": ".py",
   "mimetype": "text/x-python",
   "name": "python",
   "nbconvert_exporter": "python",
   "pygments_lexer": "ipython3",
   "version": "3.8.8"
  }
 },
 "nbformat": 4,
 "nbformat_minor": 5
}
